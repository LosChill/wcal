{
 "cells": [
  {
   "cell_type": "code",
   "execution_count": 8,
   "id": "9e91b750",
   "metadata": {
    "scrolled": true
   },
   "outputs": [],
   "source": [
    "import calendar\n",
    "import datetime\n",
    "from datetime import date\n",
    "from termcolor import colored, cprint"
   ]
  },
  {
   "cell_type": "code",
   "execution_count": 9,
   "id": "2f7d69ce",
   "metadata": {},
   "outputs": [],
   "source": [
    "today = str(datetime.datetime.now().date())"
   ]
  },
  {
   "cell_type": "code",
   "execution_count": 10,
   "id": "63815546",
   "metadata": {},
   "outputs": [],
   "source": [
    "cal = calendar.Calendar()\n",
    "months = list(range(1,13))\n",
    "cal_year = []\n",
    "for month in months:\n",
    "    cal_month = list(cal.itermonthdays4(2023, month))\n",
    "    cal_year.append(cal_month)\n",
    "cal_year = [item for sublist in cal_year for item in sublist]"
   ]
  },
  {
   "cell_type": "code",
   "execution_count": 11,
   "id": "608783c9",
   "metadata": {},
   "outputs": [],
   "source": [
    "unique_cal_year = []\n",
    "for day in cal_year:\n",
    "    if day not in unique_cal_year:\n",
    "        unique_cal_year.append(day)"
   ]
  },
  {
   "cell_type": "code",
   "execution_count": 12,
   "id": "bb2c3464",
   "metadata": {},
   "outputs": [],
   "source": [
    "colors = {1: \"yellow\", 2: \"green\", 3: \"blue\", 4: \"cyan\", 5: \"magenta\", 6: \"white\", 7: \"light_red\", 8: \"light_green\", 9: \"light_yellow\", 10: \"light_blue\", 11: \"light_cyan\", 12: \"light_magenta\"}"
   ]
  },
  {
   "cell_type": "code",
   "execution_count": 13,
   "id": "4193b59a",
   "metadata": {
    "scrolled": true
   },
   "outputs": [
    {
     "name": "stdout",
     "output_type": "stream",
     "text": [
      "Wk   Mon Tue Wed Thu Fri Sat Sun\n",
      "52    26  27  28  29  30  31   1 \n",
      " 1     2   3   4   5   6   7   8 \n",
      " 2     9  10  11  12  13  14  15 \n",
      " 3    16  17  18  19  20  21  22 \n",
      " 4    23  24  25  26  27  28  29 \n",
      " 5    30  31   1   2   3   4   5 \n",
      " 6     6   7   8   9  10  11  12 \n",
      " 7    13  14  15  16  17  18  19 \n",
      " 8    20  21  22  23  24  25  26 \n",
      " 9    27  28   1   2   3   4   5 \n",
      "10     6   7   8   9  10  11  12 \n",
      "11    13  14  15  16  17  18  19 \n",
      "12    20  21  22  23  24  25  26 \n",
      "13    27  28  29  30  31   1   2 \n",
      "14     3   4   5   6   7   8   9 \n",
      "15    10  11  12  13  14  15  16 \n",
      "16    17  18  19  20  21  22  23 \n",
      "17    24  25  26  27  28  29  30 \n",
      "18     1   2   3   4   5   6   7 \n",
      "19     8   9  10  11  12  13  14 \n",
      "20    15  16  17  18  19  20  21 \n",
      "21    22  23  24  25  26  27  28 \n",
      "22    29  30  31   1   2   3   4 \n",
      "23     5   6   7   8   9  10  11 \n",
      "24    12  13  14  15  16  17  18 \n",
      "25    19  20  21  22  23  24  25 \n",
      "26    26  27  28  29  30   1   2 \n",
      "27     3   4   5   6   7   8   9 \n",
      "28    10  11  12  13  14  15  16 \n",
      "29    17  18  19  20  21  22  23 \n",
      "30    24  25  26  27  28  29  30 \n",
      "31    31   1   2   3   4   5   6 \n",
      "32     7   8   9  10  11  12  13 \n",
      "33    14  15  16  17  18  19  20 \n",
      "34    21  22  23  24  25  26  27 \n",
      "35    28  29  30  31   1   2   3 \n",
      "36     4   5   6   7   8   9  10 \n",
      "37    11  12  13  14  15  16  17 \n",
      "38    18  19  20  21  22  23  24 \n",
      "39    25  26  27  28  29  30   1 \n",
      "40     2   3   4   5   6   7   8 \n",
      "41     9  10  11  12  13  14  15 \n",
      "42    16  17  18  19  20  21  22 \n",
      "43    23  24  25  26  27  28  29 \n",
      "44    30  31   1   2   3   4   5 \n",
      "45     6   7   8   9  10  11  12 \n",
      "46    13  14  15  16  17  18  19 \n",
      "47    20  21  22  23  24  25  26 \n",
      "48    27  28  29  30   1   2   3 \n",
      "49     4   5   6   7   8   9  10 \n",
      "50    11  12  13  14  15  16  17 \n",
      "51    18  19  20  21  22  23  24 \n",
      "52    25  26  27  28  29  30  31 \n"
     ]
    }
   ],
   "source": [
    "print(\"Wk   Mon Tue Wed Thu Fri Sat Sun\")\n",
    "\n",
    "for i in range(0, len(unique_cal_year), 7):\n",
    "    week = unique_cal_year[i:i+7]\n",
    "    year, month, day = week[0][0], week[0][1], week[0][2]\n",
    "    isowk = datetime.date(year, month, day).isocalendar()\n",
    "    print(\"{:>2}\".format(isowk[1]), end=\"   \")\n",
    "\n",
    "    for day in week:\n",
    "        date_check = f\"{day[0]}-{day[1]}-{day[2]}\"\n",
    "        if date_check != today:\n",
    "            color = colors.get(day[1], \"light_grey\")\n",
    "            print(colored(\"{:>3}\".format(day[2]), color), end=\" \")\n",
    "        else:\n",
    "            cprint(\"{:>3}\".format(day[2]), \"black\", \"on_cyan\", end=\" \")\n",
    "    print()\n"
   ]
  },
  {
   "cell_type": "code",
   "execution_count": 14,
   "id": "bb989f4a",
   "metadata": {},
   "outputs": [
    {
     "name": "stdout",
     "output_type": "stream",
     "text": [
      "2023-02-19\n"
     ]
    }
   ],
   "source": [
    "time = datetime.datetime.now().date()\n",
    "print(time)"
   ]
  },
  {
   "cell_type": "code",
   "execution_count": 15,
   "id": "6af000a1",
   "metadata": {},
   "outputs": [
    {
     "name": "stdout",
     "output_type": "stream",
     "text": [
      "2023-02-19\n"
     ]
    }
   ],
   "source": [
    "str(time)\n",
    "print(time)"
   ]
  },
  {
   "cell_type": "code",
   "execution_count": null,
   "id": "15a8f72a",
   "metadata": {},
   "outputs": [],
   "source": []
  }
 ],
 "metadata": {
  "kernelspec": {
   "display_name": "Python 3 (ipykernel)",
   "language": "python",
   "name": "python3"
  },
  "language_info": {
   "codemirror_mode": {
    "name": "ipython",
    "version": 3
   },
   "file_extension": ".py",
   "mimetype": "text/x-python",
   "name": "python",
   "nbconvert_exporter": "python",
   "pygments_lexer": "ipython3",
   "version": "3.10.6"
  }
 },
 "nbformat": 4,
 "nbformat_minor": 5
}
